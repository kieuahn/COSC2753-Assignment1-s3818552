{
 "cells": [
  {
   "cell_type": "markdown",
   "metadata": {},
   "source": [
    "# <span style=\"font-weight:bold\"> Step 2: Data Cleaning </span>\n",
    "---\n",
    "---"
   ]
  },
  {
   "cell_type": "markdown",
   "metadata": {},
   "source": [
    "Importing and setting up the environment"
   ]
  },
  {
   "cell_type": "code",
   "execution_count": 1,
   "metadata": {},
   "outputs": [
    {
     "name": "stdout",
     "output_type": "stream",
     "text": [
      "\n",
      "Columns in Train not in Test: {'TARGET_LifeExpectancy'}\n",
      "Columns in Test not in Train: set()\n"
     ]
    }
   ],
   "source": [
    "import pandas as pd\n",
    "\n",
    "df_train = pd.read_csv(\"../data/train.csv\")\n",
    "df_test = pd.read_csv(\"../data/test.csv\")\n",
    "\n",
    "# Remove duplications (if exist)\n",
    "df_train.drop_duplicates(inplace=True)\n",
    "\n",
    "# Create a copy for preprocessing\n",
    "df_train_cleaned = df_train.copy()\n",
    "\n",
    "# Check which columns are now mismatched (just in case)\n",
    "train_cols = set(df_train.columns)\n",
    "test_cols = set(df_test.columns)\n",
    "print(\"\\nColumns in Train not in Test:\", train_cols - test_cols)\n",
    "print(\"Columns in Test not in Train:\", test_cols - train_cols)"
   ]
  },
  {
   "cell_type": "markdown",
   "metadata": {
    "vscode": {
     "languageId": "plaintext"
    }
   },
   "source": [
    "#### <span style=\"font-style:italic\"> 1. Feature Selection </span>"
   ]
  },
  {
   "cell_type": "code",
   "execution_count": 2,
   "metadata": {},
   "outputs": [
    {
     "name": "stdout",
     "output_type": "stream",
     "text": [
      "Train Columns BEFORE Drop: 24\n",
      "\n",
      "Train Columns AFTER Drop: 16\n"
     ]
    }
   ],
   "source": [
    "# Drop based on EDA-driven feature selection\n",
    "drop_features = [\n",
    "    \"ID\", \n",
    "    \"Country\", \n",
    "    \"SLS\", \n",
    "    \"Thinness5-9years\", \n",
    "    \"AdultMortality-Female\", \n",
    "    \"AdultMortality-Male\", \n",
    "    \"Measles\",\n",
    "    \"PercentageExpenditure\"\n",
    "]\n",
    "\n",
    "# Check columns before dropping\n",
    "print(\"Train Columns BEFORE Drop:\", df_train.shape[1])\n",
    "\n",
    "# Apply drop\n",
    "df_train_cleaned.drop(columns=drop_features, inplace=True)\n",
    "\n",
    "# Check columns after dropping\n",
    "print(\"\\nTrain Columns AFTER Drop:\", df_train_cleaned.shape[1])\n"
   ]
  },
  {
   "cell_type": "markdown",
   "metadata": {},
   "source": [
    "#### <span style=\"font-style:italic\"> 2. Handle Missing Values</span>\n"
   ]
  },
  {
   "cell_type": "code",
   "execution_count": 3,
   "metadata": {},
   "outputs": [
    {
     "name": "stdout",
     "output_type": "stream",
     "text": [
      "Missing values after imputation:\n",
      "------------------------------\n",
      "Train Set: AdultMortality                  0\n",
      "Alcohol                         0\n",
      "BMI                             0\n",
      "Under5LS                        0\n",
      "Polio                           0\n",
      "TotalExpenditure                0\n",
      "HIV-AIDS                        0\n",
      "GDP                             0\n",
      "Population                      0\n",
      "Thinness1-19years               0\n",
      "IncomeCompositionOfResources    0\n",
      "Schooling                       0\n",
      "dtype: int64\n",
      "------------------------------\n"
     ]
    }
   ],
   "source": [
    "# === Custom Imputation Strategy ===\n",
    "\n",
    "# Fill with median\n",
    "median_impute_cols = [ 'BMI', 'GDP', 'Schooling', 'Alcohol',\n",
    "    'IncomeCompositionOfResources', 'TotalExpenditure',\n",
    "    'Polio', 'HIV-AIDS', 'Population', 'Thinness1-19years', 'Under5LS']\n",
    "\n",
    "# Impute with median\n",
    "for col in median_impute_cols:\n",
    "    median_val = df_train_cleaned[col].median()\n",
    "    df_train_cleaned[col] = df_train_cleaned[col].fillna(median_val)\n",
    "\n",
    "# Impute AdultMortality with mean\n",
    "mean_val = df_train_cleaned['AdultMortality'].mean()\n",
    "df_train_cleaned['AdultMortality'] = df_train_cleaned['AdultMortality'].fillna(mean_val)\n",
    "\n",
    "# Check missing values after imputation\n",
    "print(\"Missing values after imputation:\")\n",
    "print(\"-\" * 30)\n",
    "print(\"Train Set:\", df_train_cleaned.isnull().sum()[df_train.isnull().sum() > 0])\n",
    "print(\"-\" * 30)"
   ]
  },
  {
   "cell_type": "markdown",
   "metadata": {},
   "source": [
    "After completing all essential preprocessing steps—including feature selection, missing value imputation, and data cleaning—we now save the final datasets to disk. These files will be used in the modeling stage."
   ]
  },
  {
   "cell_type": "code",
   "execution_count": 4,
   "metadata": {},
   "outputs": [
    {
     "name": "stdout",
     "output_type": "stream",
     "text": [
      "Cleaned datasets saved as:\n",
      "- ../data/cleaned_train.csv\n"
     ]
    }
   ],
   "source": [
    "# Save cleaned versions for modeling\n",
    "df_train_cleaned.to_csv(\"../data/cleaned_train.csv\", index=False)\n",
    "\n",
    "print(\"Cleaned datasets saved as:\")\n",
    "print(\"- ../data/cleaned_train.csv\")"
   ]
  },
  {
   "cell_type": "code",
   "execution_count": 5,
   "metadata": {},
   "outputs": [],
   "source": [
    "data_train = pd.read_csv(\"../data/cleaned_train.csv\")"
   ]
  },
  {
   "cell_type": "code",
   "execution_count": 6,
   "metadata": {},
   "outputs": [
    {
     "name": "stdout",
     "output_type": "stream",
     "text": [
      "\n",
      "____________DATA TRAIN____________\n",
      "<class 'pandas.core.frame.DataFrame'>\n",
      "RangeIndex: 2071 entries, 0 to 2070\n",
      "Data columns (total 16 columns):\n",
      " #   Column                        Non-Null Count  Dtype  \n",
      "---  ------                        --------------  -----  \n",
      " 0   TARGET_LifeExpectancy         2071 non-null   float64\n",
      " 1   Year                          2071 non-null   int64  \n",
      " 2   Status                        2071 non-null   int64  \n",
      " 3   AdultMortality                2071 non-null   float64\n",
      " 4   Alcohol                       2071 non-null   float64\n",
      " 5   BMI                           2071 non-null   float64\n",
      " 6   Under5LS                      2071 non-null   float64\n",
      " 7   Polio                         2071 non-null   float64\n",
      " 8   TotalExpenditure              2071 non-null   float64\n",
      " 9   Diphtheria                    2071 non-null   float64\n",
      " 10  HIV-AIDS                      2071 non-null   float64\n",
      " 11  GDP                           2071 non-null   float64\n",
      " 12  Population                    2071 non-null   float64\n",
      " 13  Thinness1-19years             2071 non-null   float64\n",
      " 14  IncomeCompositionOfResources  2071 non-null   float64\n",
      " 15  Schooling                     2071 non-null   float64\n",
      "dtypes: float64(14), int64(2)\n",
      "memory usage: 259.0 KB\n",
      "TRAIN DATA SHAPE: (2071, 16)\n",
      "______________________________\n"
     ]
    }
   ],
   "source": [
    "print(\"\\n____________DATA TRAIN____________\")\n",
    "data_train.info()\n",
    "data_train.head()\n",
    "print(\"TRAIN DATA SHAPE:\", data_train.shape)\n",
    "print(\"______________________________\")"
   ]
  },
  {
   "cell_type": "code",
   "execution_count": 7,
   "metadata": {},
   "outputs": [
    {
     "name": "stdout",
     "output_type": "stream",
     "text": [
      "\n",
      "____________NULL COUNT____________\n",
      "TRAIN NULL COUNT:\n",
      "TARGET_LifeExpectancy           0\n",
      "Year                            0\n",
      "Status                          0\n",
      "AdultMortality                  0\n",
      "Alcohol                         0\n",
      "BMI                             0\n",
      "Under5LS                        0\n",
      "Polio                           0\n",
      "TotalExpenditure                0\n",
      "Diphtheria                      0\n",
      "HIV-AIDS                        0\n",
      "GDP                             0\n",
      "Population                      0\n",
      "Thinness1-19years               0\n",
      "IncomeCompositionOfResources    0\n",
      "Schooling                       0\n",
      "dtype: int64\n"
     ]
    }
   ],
   "source": [
    "#Check for missing values again\n",
    "print(\"\\n____________NULL COUNT____________\")\n",
    "print(\"TRAIN NULL COUNT:\")\n",
    "print(data_train.isnull().sum())"
   ]
  }
 ],
 "metadata": {
  "kernelspec": {
   "display_name": "base",
   "language": "python",
   "name": "python3"
  },
  "language_info": {
   "codemirror_mode": {
    "name": "ipython",
    "version": 3
   },
   "file_extension": ".py",
   "mimetype": "text/x-python",
   "name": "python",
   "nbconvert_exporter": "python",
   "pygments_lexer": "ipython3",
   "version": "3.12.7"
  }
 },
 "nbformat": 4,
 "nbformat_minor": 2
}
